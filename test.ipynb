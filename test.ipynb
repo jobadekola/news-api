{
 "cells": [
  {
   "cell_type": "code",
   "execution_count": null,
   "metadata": {},
   "outputs": [],
   "source": [
    "import requests\n",
    "import json\n",
    "import snowflake.connector\n",
    "\n",
    "table_name = 'test_table',\n",
    "country = 'us',\n",
    "category = 'sports'\n",
    "\n",
    "class NewsAPI:\n",
    "    def __init__(self, api_key):\n",
    "        self.api_key = \"ce8c4b3c99d14e0d922f653c41b36614\"\n",
    "        self.base_url = \"http://newsapi.org/v2/top-headlines?\"\n",
    "        \n",
    "    def get_news(self, country, category):\n",
    "       \n",
    "        url = self.base_url + \"country=\" + country + \"&category=\" + category + \"&apiKey=\" + self.api_key\n",
    "        response = requests.get(url)\n",
    "        return response.json()\n",
    "\n",
    "\n"
   ]
  },
  {
   "cell_type": "code",
   "execution_count": 3,
   "metadata": {},
   "outputs": [
    {
     "ename": "ProgrammingError",
     "evalue": "001003 (42000): SQL compilation error:\nsyntax error line 1 at position 112 unexpected 'Subscriber'.\nsyntax error line 2 at position 158 unexpected 'I'.\nsyntax error line 2 at position 160 unexpected 'l'.",
     "output_type": "error",
     "traceback": [
      "\u001b[0;31m---------------------------------------------------------------------------\u001b[0m",
      "\u001b[0;31mProgrammingError\u001b[0m                          Traceback (most recent call last)",
      "\u001b[0;32m<ipython-input-3-fc9dde1f34ec>\u001b[0m in \u001b[0;36m<module>\u001b[0;34m\u001b[0m\n\u001b[1;32m     28\u001b[0m \u001b[0;31m# Insert news into Snowflake table\u001b[0m\u001b[0;34m\u001b[0m\u001b[0;34m\u001b[0m\u001b[0;34m\u001b[0m\u001b[0m\n\u001b[1;32m     29\u001b[0m \u001b[0;32mfor\u001b[0m \u001b[0marticle\u001b[0m \u001b[0;32min\u001b[0m \u001b[0mnews\u001b[0m\u001b[0;34m[\u001b[0m\u001b[0;34m\"articles\"\u001b[0m\u001b[0;34m]\u001b[0m\u001b[0;34m:\u001b[0m\u001b[0;34m\u001b[0m\u001b[0;34m\u001b[0m\u001b[0m\n\u001b[0;32m---> 30\u001b[0;31m     \u001b[0mingester\u001b[0m\u001b[0;34m.\u001b[0m\u001b[0minsert_data\u001b[0m\u001b[0;34m(\u001b[0m\u001b[0;34m\"news\"\u001b[0m\u001b[0;34m,\u001b[0m \u001b[0marticle\u001b[0m\u001b[0;34m)\u001b[0m\u001b[0;34m\u001b[0m\u001b[0;34m\u001b[0m\u001b[0m\n\u001b[0m\u001b[1;32m     31\u001b[0m \u001b[0;34m\u001b[0m\u001b[0m\n\u001b[1;32m     32\u001b[0m \u001b[0;31m# Commit changes\u001b[0m\u001b[0;34m\u001b[0m\u001b[0;34m\u001b[0m\u001b[0;34m\u001b[0m\u001b[0m\n",
      "\u001b[0;32m<ipython-input-3-fc9dde1f34ec>\u001b[0m in \u001b[0;36minsert_data\u001b[0;34m(self, table_name, data)\u001b[0m\n\u001b[1;32m     15\u001b[0m     \u001b[0;32mdef\u001b[0m \u001b[0minsert_data\u001b[0m\u001b[0;34m(\u001b[0m\u001b[0mself\u001b[0m\u001b[0;34m,\u001b[0m \u001b[0mtable_name\u001b[0m\u001b[0;34m,\u001b[0m \u001b[0mdata\u001b[0m\u001b[0;34m)\u001b[0m\u001b[0;34m:\u001b[0m\u001b[0;34m\u001b[0m\u001b[0;34m\u001b[0m\u001b[0m\n\u001b[1;32m     16\u001b[0m         \u001b[0minsert_query\u001b[0m \u001b[0;34m=\u001b[0m \u001b[0;34m\"INSERT INTO LEARN.PUBLIC.{} (title, description, publishedAt) VALUES ({}, {}, {});\"\u001b[0m\u001b[0;34m.\u001b[0m\u001b[0mformat\u001b[0m\u001b[0;34m(\u001b[0m\u001b[0mtable_name\u001b[0m\u001b[0;34m,\u001b[0m \u001b[0mdata\u001b[0m\u001b[0;34m[\u001b[0m\u001b[0;34m\"title\"\u001b[0m\u001b[0;34m]\u001b[0m\u001b[0;34m,\u001b[0m \u001b[0mdata\u001b[0m\u001b[0;34m[\u001b[0m\u001b[0;34m\"description\"\u001b[0m\u001b[0;34m]\u001b[0m\u001b[0;34m,\u001b[0m \u001b[0mdata\u001b[0m\u001b[0;34m[\u001b[0m\u001b[0;34m\"publishedAt\"\u001b[0m\u001b[0;34m]\u001b[0m\u001b[0;34m)\u001b[0m\u001b[0;34m\u001b[0m\u001b[0;34m\u001b[0m\u001b[0m\n\u001b[0;32m---> 17\u001b[0;31m         \u001b[0mself\u001b[0m\u001b[0;34m.\u001b[0m\u001b[0mcursor\u001b[0m\u001b[0;34m.\u001b[0m\u001b[0mexecute\u001b[0m\u001b[0;34m(\u001b[0m\u001b[0minsert_query\u001b[0m\u001b[0;34m)\u001b[0m\u001b[0;34m\u001b[0m\u001b[0;34m\u001b[0m\u001b[0m\n\u001b[0m\u001b[1;32m     18\u001b[0m \u001b[0;34m\u001b[0m\u001b[0m\n\u001b[1;32m     19\u001b[0m \u001b[0mnewsapi\u001b[0m \u001b[0;34m=\u001b[0m \u001b[0mNewsAPI\u001b[0m\u001b[0;34m(\u001b[0m\u001b[0mapi_key\u001b[0m\u001b[0;34m=\u001b[0m\u001b[0;34m\"ce8c4b3c99d14e0d922f653c41b36614\"\u001b[0m\u001b[0;34m)\u001b[0m\u001b[0;34m\u001b[0m\u001b[0;34m\u001b[0m\u001b[0m\n",
      "\u001b[0;32m/usr/local/anaconda3/envs/pycaret1/lib/python3.6/site-packages/snowflake/connector/cursor.py\u001b[0m in \u001b[0;36mexecute\u001b[0;34m(self, command, params, _bind_stage, timeout, _exec_async, _do_reset, _put_callback, _put_azure_callback, _put_callback_output_stream, _get_callback, _get_azure_callback, _get_callback_output_stream, _show_progress_bar, _statement_params, _is_internal, _describe_only, _no_results, _use_ijson, _is_put_get, _raise_put_get_error, _force_put_overwrite, file_stream)\u001b[0m\n\u001b[1;32m    790\u001b[0m             \u001b[0merror_class\u001b[0m \u001b[0;34m=\u001b[0m \u001b[0mIntegrityError\u001b[0m \u001b[0;32mif\u001b[0m \u001b[0mis_integrity_error\u001b[0m \u001b[0;32melse\u001b[0m \u001b[0mProgrammingError\u001b[0m\u001b[0;34m\u001b[0m\u001b[0;34m\u001b[0m\u001b[0m\n\u001b[1;32m    791\u001b[0m             Error.errorhandler_wrapper(\n\u001b[0;32m--> 792\u001b[0;31m                 \u001b[0mself\u001b[0m\u001b[0;34m.\u001b[0m\u001b[0mconnection\u001b[0m\u001b[0;34m,\u001b[0m \u001b[0mself\u001b[0m\u001b[0;34m,\u001b[0m \u001b[0merror_class\u001b[0m\u001b[0;34m,\u001b[0m \u001b[0merrvalue\u001b[0m\u001b[0;34m\u001b[0m\u001b[0;34m\u001b[0m\u001b[0m\n\u001b[0m\u001b[1;32m    793\u001b[0m             )\n\u001b[1;32m    794\u001b[0m         \u001b[0;32mreturn\u001b[0m \u001b[0mself\u001b[0m\u001b[0;34m\u001b[0m\u001b[0;34m\u001b[0m\u001b[0m\n",
      "\u001b[0;32m/usr/local/anaconda3/envs/pycaret1/lib/python3.6/site-packages/snowflake/connector/errors.py\u001b[0m in \u001b[0;36merrorhandler_wrapper\u001b[0;34m(connection, cursor, error_class, error_value)\u001b[0m\n\u001b[1;32m    274\u001b[0m             \u001b[0mcursor\u001b[0m\u001b[0;34m,\u001b[0m\u001b[0;34m\u001b[0m\u001b[0;34m\u001b[0m\u001b[0m\n\u001b[1;32m    275\u001b[0m             \u001b[0merror_class\u001b[0m\u001b[0;34m,\u001b[0m\u001b[0;34m\u001b[0m\u001b[0;34m\u001b[0m\u001b[0m\n\u001b[0;32m--> 276\u001b[0;31m             \u001b[0merror_value\u001b[0m\u001b[0;34m,\u001b[0m\u001b[0;34m\u001b[0m\u001b[0;34m\u001b[0m\u001b[0m\n\u001b[0m\u001b[1;32m    277\u001b[0m         )\n\u001b[1;32m    278\u001b[0m         \u001b[0;32mif\u001b[0m \u001b[0;32mnot\u001b[0m \u001b[0mhanded_over\u001b[0m\u001b[0;34m:\u001b[0m\u001b[0;34m\u001b[0m\u001b[0;34m\u001b[0m\u001b[0m\n",
      "\u001b[0;32m/usr/local/anaconda3/envs/pycaret1/lib/python3.6/site-packages/snowflake/connector/errors.py\u001b[0m in \u001b[0;36mhand_to_other_handler\u001b[0;34m(connection, cursor, error_class, error_value)\u001b[0m\n\u001b[1;32m    325\u001b[0m         \u001b[0;32mif\u001b[0m \u001b[0mcursor\u001b[0m \u001b[0;32mis\u001b[0m \u001b[0;32mnot\u001b[0m \u001b[0;32mNone\u001b[0m\u001b[0;34m:\u001b[0m\u001b[0;34m\u001b[0m\u001b[0;34m\u001b[0m\u001b[0m\n\u001b[1;32m    326\u001b[0m             \u001b[0mcursor\u001b[0m\u001b[0;34m.\u001b[0m\u001b[0mmessages\u001b[0m\u001b[0;34m.\u001b[0m\u001b[0mappend\u001b[0m\u001b[0;34m(\u001b[0m\u001b[0;34m(\u001b[0m\u001b[0merror_class\u001b[0m\u001b[0;34m,\u001b[0m \u001b[0merror_value\u001b[0m\u001b[0;34m)\u001b[0m\u001b[0;34m)\u001b[0m\u001b[0;34m\u001b[0m\u001b[0;34m\u001b[0m\u001b[0m\n\u001b[0;32m--> 327\u001b[0;31m             \u001b[0mcursor\u001b[0m\u001b[0;34m.\u001b[0m\u001b[0merrorhandler\u001b[0m\u001b[0;34m(\u001b[0m\u001b[0mconnection\u001b[0m\u001b[0;34m,\u001b[0m \u001b[0mcursor\u001b[0m\u001b[0;34m,\u001b[0m \u001b[0merror_class\u001b[0m\u001b[0;34m,\u001b[0m \u001b[0merror_value\u001b[0m\u001b[0;34m)\u001b[0m\u001b[0;34m\u001b[0m\u001b[0;34m\u001b[0m\u001b[0m\n\u001b[0m\u001b[1;32m    328\u001b[0m             \u001b[0;32mreturn\u001b[0m \u001b[0;32mTrue\u001b[0m\u001b[0;34m\u001b[0m\u001b[0;34m\u001b[0m\u001b[0m\n\u001b[1;32m    329\u001b[0m         \u001b[0;32melif\u001b[0m \u001b[0mconnection\u001b[0m \u001b[0;32mis\u001b[0m \u001b[0;32mnot\u001b[0m \u001b[0;32mNone\u001b[0m\u001b[0;34m:\u001b[0m\u001b[0;34m\u001b[0m\u001b[0;34m\u001b[0m\u001b[0m\n",
      "\u001b[0;32m/usr/local/anaconda3/envs/pycaret1/lib/python3.6/site-packages/snowflake/connector/errors.py\u001b[0m in \u001b[0;36mdefault_errorhandler\u001b[0;34m(connection, cursor, error_class, error_value)\u001b[0m\n\u001b[1;32m    211\u001b[0m             \u001b[0mdone_format_msg\u001b[0m\u001b[0;34m=\u001b[0m\u001b[0merror_value\u001b[0m\u001b[0;34m.\u001b[0m\u001b[0mget\u001b[0m\u001b[0;34m(\u001b[0m\u001b[0;34m\"done_format_msg\"\u001b[0m\u001b[0;34m)\u001b[0m\u001b[0;34m,\u001b[0m\u001b[0;34m\u001b[0m\u001b[0;34m\u001b[0m\u001b[0m\n\u001b[1;32m    212\u001b[0m             \u001b[0mconnection\u001b[0m\u001b[0;34m=\u001b[0m\u001b[0mconnection\u001b[0m\u001b[0;34m,\u001b[0m\u001b[0;34m\u001b[0m\u001b[0;34m\u001b[0m\u001b[0m\n\u001b[0;32m--> 213\u001b[0;31m             \u001b[0mcursor\u001b[0m\u001b[0;34m=\u001b[0m\u001b[0mcursor\u001b[0m\u001b[0;34m,\u001b[0m\u001b[0;34m\u001b[0m\u001b[0;34m\u001b[0m\u001b[0m\n\u001b[0m\u001b[1;32m    214\u001b[0m         )\n\u001b[1;32m    215\u001b[0m \u001b[0;34m\u001b[0m\u001b[0m\n",
      "\u001b[0;31mProgrammingError\u001b[0m: 001003 (42000): SQL compilation error:\nsyntax error line 1 at position 112 unexpected 'Subscriber'.\nsyntax error line 2 at position 158 unexpected 'I'.\nsyntax error line 2 at position 160 unexpected 'l'."
     ]
    }
   ],
   "source": [
    "class SnowflakeIngester:\n",
    "    def __init__(self, user, password, account):\n",
    "        self.cnx = snowflake.connector.connect(\n",
    "            user='tadox',\n",
    "            password='tkFKy9EBNpfkT3H',\n",
    "            account='vfzztqv-zn53085'\n",
    "            \n",
    "        )\n",
    "        self.cursor = self.cnx.cursor()\n",
    "        \n",
    "    def create_table(self, table_name, columns):\n",
    "        table_create_query = \"CREATE TABLE LEARN.PUBLIC.{} ({});\".format(table_name, columns)\n",
    "        self.cursor.execute(table_create_query)\n",
    "        \n",
    "    def insert_data(self, table_name, data):\n",
    "        insert_query = \"INSERT INTO LEARN.PUBLIC.{} (title, description, publishedAt) VALUES ({}, {}, {});\".format(table_name, data[\"title\"], data[\"description\"], data[\"publishedAt\"])\n",
    "        self.cursor.execute(insert_query)\n",
    "\n",
    "newsapi = NewsAPI(api_key=\"ce8c4b3c99d14e0d922f653c41b36614\")\n",
    "ingester = SnowflakeIngester(user='tadox', password='tkFKy9EBNpfkT3H', account='vfzztqv-zn53085')\n",
    "\n",
    "# Get news from News API\n",
    "news = newsapi.get_news(country=\"us\", category=\"technology\")\n",
    "\n",
    "# Create a table in Snowflake\n",
    "ingester.create_table(\"news\", \"title VARCHAR(100), description VARCHAR(100), publishedAt VARCHAR(100)\")\n",
    "\n",
    "# Insert news into Snowflake table\n",
    "for article in news[\"articles\"]:\n",
    "    ingester.insert_data(\"news\", article)\n",
    "\n",
    "# Commit changes\n",
    "ingester.cnx.commit()\n",
    "\n",
    "# Close connection\n",
    "ingester.cnx.close()"
   ]
  },
  {
   "cell_type": "code",
   "execution_count": null,
   "metadata": {},
   "outputs": [],
   "source": [
    "newsapi = NewsAPI(api_key=\"ce8c4b3c99d14e0d922f653c41b36614\")\n",
    "news_data = newsapi.get_news(country=\"us\", category=\"technology\")"
   ]
  },
  {
   "cell_type": "code",
   "execution_count": 42,
   "metadata": {},
   "outputs": [
    {
     "ename": "KeyError",
     "evalue": "'status'",
     "output_type": "error",
     "traceback": [
      "\u001b[0;31m---------------------------------------------------------------------------\u001b[0m",
      "\u001b[0;31mKeyError\u001b[0m                                  Traceback (most recent call last)",
      "\u001b[0;32m<ipython-input-42-87be797dd961>\u001b[0m in \u001b[0;36m<module>\u001b[0;34m\u001b[0m\n\u001b[1;32m     40\u001b[0m \u001b[0;31m# Insert news into Snowflake table\u001b[0m\u001b[0;34m\u001b[0m\u001b[0;34m\u001b[0m\u001b[0;34m\u001b[0m\u001b[0m\n\u001b[1;32m     41\u001b[0m \u001b[0;32mfor\u001b[0m \u001b[0marticle\u001b[0m \u001b[0;32min\u001b[0m \u001b[0mnews\u001b[0m\u001b[0;34m[\u001b[0m\u001b[0;34m\"articles\"\u001b[0m\u001b[0;34m]\u001b[0m\u001b[0;34m:\u001b[0m\u001b[0;34m\u001b[0m\u001b[0;34m\u001b[0m\u001b[0m\n\u001b[0;32m---> 42\u001b[0;31m     \u001b[0mingester\u001b[0m\u001b[0;34m.\u001b[0m\u001b[0minsert_data\u001b[0m\u001b[0;34m(\u001b[0m\u001b[0;34m\"news\"\u001b[0m\u001b[0;34m,\u001b[0m \u001b[0marticle\u001b[0m\u001b[0;34m)\u001b[0m\u001b[0;34m\u001b[0m\u001b[0;34m\u001b[0m\u001b[0m\n\u001b[0m\u001b[1;32m     43\u001b[0m \u001b[0;34m\u001b[0m\u001b[0m\n\u001b[1;32m     44\u001b[0m \u001b[0;31m# Commit changes\u001b[0m\u001b[0;34m\u001b[0m\u001b[0;34m\u001b[0m\u001b[0;34m\u001b[0m\u001b[0m\n",
      "\u001b[0;32m<ipython-input-42-87be797dd961>\u001b[0m in \u001b[0;36minsert_data\u001b[0;34m(self, table_name, news)\u001b[0m\n\u001b[1;32m     26\u001b[0m \u001b[0;34m\u001b[0m\u001b[0m\n\u001b[1;32m     27\u001b[0m     \u001b[0;32mdef\u001b[0m \u001b[0minsert_data\u001b[0m\u001b[0;34m(\u001b[0m\u001b[0mself\u001b[0m\u001b[0;34m,\u001b[0m \u001b[0mtable_name\u001b[0m\u001b[0;34m,\u001b[0m \u001b[0mnews\u001b[0m\u001b[0;34m)\u001b[0m\u001b[0;34m:\u001b[0m\u001b[0;34m\u001b[0m\u001b[0;34m\u001b[0m\u001b[0m\n\u001b[0;32m---> 28\u001b[0;31m         \u001b[0minsert_query\u001b[0m \u001b[0;34m=\u001b[0m \u001b[0;34m\"INSERT INTO LEARN.PUBLIC.{} (status, totalResults, articles) VALUES ({}, {}, {});\"\u001b[0m\u001b[0;34m.\u001b[0m\u001b[0mformat\u001b[0m\u001b[0;34m(\u001b[0m\u001b[0mtable_name\u001b[0m\u001b[0;34m,\u001b[0m \u001b[0mnews\u001b[0m\u001b[0;34m[\u001b[0m\u001b[0;34m\"status\"\u001b[0m\u001b[0;34m]\u001b[0m\u001b[0;34m,\u001b[0m \u001b[0mnews\u001b[0m\u001b[0;34m[\u001b[0m\u001b[0;34m\"totalResults\"\u001b[0m\u001b[0;34m]\u001b[0m\u001b[0;34m,\u001b[0m \u001b[0mnews\u001b[0m\u001b[0;34m[\u001b[0m\u001b[0;34m\"articles\"\u001b[0m\u001b[0;34m]\u001b[0m\u001b[0;34m)\u001b[0m\u001b[0;34m\u001b[0m\u001b[0;34m\u001b[0m\u001b[0m\n\u001b[0m\u001b[1;32m     29\u001b[0m         \u001b[0mself\u001b[0m\u001b[0;34m.\u001b[0m\u001b[0mcursor\u001b[0m\u001b[0;34m.\u001b[0m\u001b[0mexecute\u001b[0m\u001b[0;34m(\u001b[0m\u001b[0minsert_query\u001b[0m\u001b[0;34m)\u001b[0m\u001b[0;34m\u001b[0m\u001b[0;34m\u001b[0m\u001b[0m\n\u001b[1;32m     30\u001b[0m \u001b[0;34m\u001b[0m\u001b[0m\n",
      "\u001b[0;31mKeyError\u001b[0m: 'status'"
     ]
    }
   ],
   "source": [
    "import requests\n",
    "import snowflake.connector\n",
    "\n",
    "class NewsAPI:\n",
    "    def __init__(self, api_key):\n",
    "        self.api_key = api_key\n",
    "        self.base_url = \"http://newsapi.org/v2/top-headlines?\"\n",
    "        \n",
    "    def get_news(self, country, category):\n",
    "        url = self.base_url + \"country=\" + country + \"&category=\" + category + \"&apiKey=\" + self.api_key\n",
    "        response = requests.get(url)\n",
    "        return response.json()\n",
    "\n",
    "class SnowflakeIngester:\n",
    "    def __init__(self, user, password, account):\n",
    "        self.cnx = snowflake.connector.connect(\n",
    "            user=user,\n",
    "            password=password,\n",
    "            account=account\n",
    "        )\n",
    "        self.cursor = self.cnx.cursor()\n",
    "        \n",
    "    def create_table(self, table_name, columns):\n",
    "        table_create_query = \"CREATE TABLE LEARN.PUBLIC.{} ({});\".format(table_name, columns)\n",
    "        self.cursor.execute(table_create_query)\n",
    "        \n",
    "    def insert_data(self, table_name, news):\n",
    "        insert_query = \"INSERT INTO LEARN.PUBLIC.REW (status, totalResults, articles) VALUES ({}, {}, {});\".format(table_name, news[\"status\"], news[\"totalResults\"], news[\"articles\"])\n",
    "        self.cursor.execute(insert_query)\n",
    "\n",
    "newsapi = NewsAPI(api_key=\"ce8c4b3c99d14e0d922f653c41b36614\")\n",
    "ingester = SnowflakeIngester(user='tadox', password='tkFKy9EBNpfkT3H', account='vfzztqv-zn53085')\n",
    "\n",
    "# Get news from News API\n",
    "news = newsapi.get_news(country=\"us\", category=\"business\")\n",
    "\n",
    "# Create a table in Snowflake\n",
    "ingester.create_table(\"REW\", \"status VARCHAR(100), totalResults VARCHAR(100), articles VARCHAR(100)\")\n",
    "\n",
    "# Insert news into Snowflake table\n",
    "for article in news[\"articles\"]:\n",
    "    ingester.insert_data(\"news\", article)\n",
    "\n",
    "# Commit changes\n",
    "ingester.cnx.commit()\n",
    "\n",
    "# Close connection\n",
    "ingester.cnx.close()\n"
   ]
  },
  {
   "cell_type": "code",
   "execution_count": 28,
   "metadata": {},
   "outputs": [],
   "source": [
    "news = newsapi.get_news(country=\"us\", category=\"business\")\n"
   ]
  },
  {
   "cell_type": "code",
   "execution_count": 36,
   "metadata": {},
   "outputs": [],
   "source": [
    "y = news.keys()"
   ]
  },
  {
   "cell_type": "code",
   "execution_count": 37,
   "metadata": {},
   "outputs": [
    {
     "data": {
      "text/plain": [
       "dict_keys(['status', 'totalResults', 'articles'])"
      ]
     },
     "execution_count": 37,
     "metadata": {},
     "output_type": "execute_result"
    }
   ],
   "source": [
    "y"
   ]
  },
  {
   "cell_type": "code",
   "execution_count": 40,
   "metadata": {},
   "outputs": [
    {
     "data": {
      "text/plain": [
       "[{'source': {'id': None, 'name': \"Barron's\"},\n",
       "  'author': 'Callum Keown, Jacob Sonenshine',\n",
       "  'title': \"Stock Market Today: Dow Slips as Bond Yields Rise - Barron's\",\n",
       "  'description': \"Barron's live coverage of financial markets, from stocks and bonds to oil and crypto.\",\n",
       "  'url': 'https://www.barrons.com/livecoverage/stock-market-today-020623',\n",
       "  'urlToImage': 'https://images.barrons.com/im-717803/social',\n",
       "  'publishedAt': '2023-02-06T22:23:00Z',\n",
       "  'content': None},\n",
       " {'source': {'id': None, 'name': 'Yahoo Entertainment'},\n",
       "  'author': 'Ines Ferré',\n",
       "  'title': 'Bed Bath & Beyond announces plan to raise $1 billion, stock falls 24% - Yahoo Finance',\n",
       "  'description': \"Bed Bath & Beyond's (BBBY) stock sank 24% after the embattled retailer announced it will raise as much as $1.025 billion through an equity offering.\",\n",
       "  'url': 'https://finance.yahoo.com/news/bed-bath--beyond-announces-plan-to-raise-1-billion-stock-falls-24-212006024.html',\n",
       "  'urlToImage': 'https://s.yimg.com/ny/api/res/1.2/EJZkGFSSt7DVr4rct4LCTA--/YXBwaWQ9aGlnaGxhbmRlcjt3PTEyMDA7aD04MDA-/https://s.yimg.com/os/creatr-uploaded-images/2022-08/d6842820-1e22-11ed-b3ee-729a2ad01c5e',\n",
       "  'publishedAt': '2023-02-06T22:19:16Z',\n",
       "  'content': \"Bed Bath &amp; Beyond's (BBBY) stock sank 24% after the embattled retailer announced it will raise as much as $1.025 billion through an equity offering.\\r\\nBBBY had gained 92% on Monday ahead of the an… [+1872 chars]\"},\n",
       " {'source': {'id': None, 'name': 'Jalopnik'},\n",
       "  'author': 'Erik Shilling',\n",
       "  'title': \"Jim Farley's Still in the Middle of a Tantrum - Jalopnik\",\n",
       "  'description': \"Last week the Ford CEO was mad that profits weren't high enough. This week, he says Ford has 25 percent more engineers than it needs.\",\n",
       "  'url': 'https://jalopnik.com/jim-farleys-still-in-the-middle-of-a-tantrum-1850079071',\n",
       "  'urlToImage': 'https://i.kinja-img.com/gawker-media/image/upload/c_fill,f_auto,fl_progressive,g_center,h_675,pg_1,q_80,w_1200/b6a941d37a3fe6a1330cf3911dc9b094.jpg',\n",
       "  'publishedAt': '2023-02-06T21:30:00Z',\n",
       "  'content': 'Jim Farley, who has been CEO of Ford Motor Company since October 2020, surely came into the job with his eyes wide open, having already worked for Ford for many years in executive roles. But even if … [+2555 chars]'},\n",
       " {'source': {'id': None, 'name': 'WOLF STREET'},\n",
       "  'author': None,\n",
       "  'title': 'Delayed Reaction? 2-Year & 10-Year Treasury Yields Jump, Mortgage Rates Spike 40 Basis Points in Two Days to 6.39% - WOLF STREET',\n",
       "  'description': 'Last week sinks in, and WHOOSH go yields.',\n",
       "  'url': 'https://wolfstreet.com/2023/02/06/delayed-reaction-2-year-10-year-treasury-yields-jump-mortgage-rates-spike-40-basis-points-in-two-days-to-6-39/',\n",
       "  'urlToImage': 'https://wolfstreet.com/wp-content/uploads/2023/02/US-Treasury-yield-2023-02-06-ten-year.png',\n",
       "  'publishedAt': '2023-02-06T21:22:30Z',\n",
       "  'content': 'Last week sinks in, and WHOOSH go yields.\\r\\nThe average 30-year fixed mortgage rate spiked to 6.39% today, according to Mortgage News Daily, having bounced by 40 basis points in two days off the low o… [+2675 chars]'},\n",
       " {'source': {'id': None, 'name': 'CNBC'},\n",
       "  'author': 'Jonathan Vanian',\n",
       "  'title': 'Pinterest shares plunge as much as 12% on fourth-quarter revenue miss and weak forecast - CNBC',\n",
       "  'description': \"Pinterest reported revenue for the fourth quarter that missed analysts' estimates\",\n",
       "  'url': 'https://www.cnbc.com/2023/02/06/pinterest-pins-earnings-q4-2022.html',\n",
       "  'urlToImage': 'https://image.cnbcfm.com/api/v1/image/105918215-1558041844751gettyimages-1143514672.jpeg?v=1675718127&w=1920&h=1080',\n",
       "  'publishedAt': '2023-02-06T21:15:27Z',\n",
       "  'content': \"Pinterest shares sank as much as 12% after the company reported revenue that missed analyst expectations and issued a light forecast for the first quarter.\\r\\nHere's how the company did.\\r\\n<ul><li>Reven… [+2660 chars]\"},\n",
       " {'source': {'id': None, 'name': 'Minneapolis Star Tribune'},\n",
       "  'author': 'Nicole Norfleet',\n",
       "  'title': \"Chuck & Don's parent company files for bankruptcy - Star Tribune\",\n",
       "  'description': 'The store in downtown St. Paul is on the list to close.',\n",
       "  'url': 'https://www.startribune.com/independent-pet-partners-holdings-chuck-dons-pet-store-minnesota-closing-st-paul-bankruptcy/600249540/',\n",
       "  'urlToImage': 'https://chorus.stimg.co/24413766/chuckdons.jpg?h=630&w=1200&fit=crop&bg=999&crop=faces',\n",
       "  'publishedAt': '2023-02-06T21:00:11Z',\n",
       "  'content': \"Woodbury-based Independent Pet Partners Holdings, the parent company of Chuck &amp; Don's and several other high-end pet supply stores, filed for Chapter 11 bankruptcy protection.\\r\\nThe filing will me… [+4374 chars]\"},\n",
       " {'source': {'id': None, 'name': 'CNBC'},\n",
       "  'author': 'Chelsey Cox',\n",
       "  'title': \"Failure to raise U.S. debt ceiling would lead to 'economic and financial catastrophe,' Yellen says - CNBC\",\n",
       "  'description': 'Treasury Secretary Janet Yellen warned that defaulting on the debt ceiling would lead to financial catastrophe.',\n",
       "  'url': 'https://www.cnbc.com/2023/02/06/failing-to-raise-us-debt-ceiling-would-lead-to-economic-and-financial-catastrophe-yellen-says.html',\n",
       "  'urlToImage': 'https://image.cnbcfm.com/api/v1/image/107180541-1674068763314-gettyimages-1455568158-kd_22253_92ea43dd-a20b-4c8d-89de-c7d2a76562eb.jpeg?v=1675715957&w=1920&h=1080',\n",
       "  'publishedAt': '2023-02-06T20:32:12Z',\n",
       "  'content': 'The U.S. government risks \"economic and financial catastrophe\" if the House fails to pass a bill to raise the $31.4 trillion debt ceiling, Treasury Secretary Janet Yellen said Monday.\\r\\nThe nation hit… [+1335 chars]'},\n",
       " {'source': {'id': 'bloomberg', 'name': 'Bloomberg'},\n",
       "  'author': None,\n",
       "  'title': \"Fed's Bostic Says Higher Peak Rate on Table After Jobs Blowout - Bloomberg\",\n",
       "  'description': None,\n",
       "  'url': 'https://www.bloomberg.com/tosv2.html?vid=&uuid=0365d00b-a672-11ed-9adf-6b564b484a4c&url=L25ld3MvYXJ0aWNsZXMvMjAyMy0wMi0wNi9mZWQtcy1ib3N0aWMtc2F5cy1oaWdoZXItcGVhay1yYXRlLW9uLXRhYmxlLWFmdGVyLWpvYnMtYmxvd291dA==',\n",
       "  'urlToImage': None,\n",
       "  'publishedAt': '2023-02-06T20:30:00Z',\n",
       "  'content': \"To continue, please click the box below to let us know you're not a robot.\"},\n",
       " {'source': {'id': 'cnn', 'name': 'CNN'},\n",
       "  'author': 'Gregory Wallace',\n",
       "  'title': 'FAA proposes fining United $1 million for skipping safety steps - CNN',\n",
       "  'description': 'Airline regulators on Monday proposed slapping United Airlines with a $1.15 million fine for safety concerns about how it operated some 777 planes.',\n",
       "  'url': 'https://www.cnn.com/2023/02/06/business/faa-fine-united-airlines-777/index.html',\n",
       "  'urlToImage': 'https://media.cnn.com/api/v1/images/stellar/prod/230206115616-united-airlines-boeing-777-0130-restricted.jpg?c=16x9&q=w_800,c_fill',\n",
       "  'publishedAt': '2023-02-06T20:30:00Z',\n",
       "  'content': 'Airline regulators on Monday proposed slapping United Airlines with a $1.15 million fine for safety concerns about how it operated some 777 planes. \\r\\nUnited removed an important safety measure checki… [+1477 chars]'},\n",
       " {'source': {'id': None, 'name': 'Endpoints News'},\n",
       "  'author': 'Nicole DeFeudis',\n",
       "  'title': \"'Smooth and very much on track': Eisai reports first shipments of Leqembi - Endpoints News\",\n",
       "  'description': 'Eisai and Biogen began shipping out doses of their newly approved Alzheimer’s drug Leqembi ahead of schedule last month, according to Eisai’s US chairman and CEO Ivan Cheung. If all goes according to plan, the chief executive hopes to achieve full approval an…',\n",
       "  'url': 'https://endpts.com/smooth-and-very-much-on-track-eisai-reports-first-shipments-of-leqembi/',\n",
       "  'urlToImage': 'https://endpts.com/wp-content/uploads/2022/09/Ivan-Cheung-Eisai-tile.jpg',\n",
       "  'publishedAt': '2023-02-06T20:22:00Z',\n",
       "  'content': 'Bristol Myers Squibb debuted its psoriasis med on one of the few remaining big mainstream TV stages on Sunday night. Its first direct-to-consumer campaign for Sotyktu aired during the Grammy Awards w… [+738 chars]'},\n",
       " {'source': {'id': None, 'name': 'Slate Magazine'},\n",
       "  'author': 'Alex Kirshner',\n",
       "  'title': \"Twitter's API-charging plan is the latest innovatively bad idea from Elon Musk. - Slate\",\n",
       "  'description': 'The kind of business quarter one is thankful to keep private.',\n",
       "  'url': 'https://slate.com/technology/2023/02/twitter-api-bots-elon-musk.html',\n",
       "  'urlToImage': 'https://compote.slate.com/images/0c918212-ee47-4e90-959f-53027baf26b4.jpeg?crop=2700%2C1800%2Cx0%2Cy0&width=1560',\n",
       "  'publishedAt': '2023-02-06T20:15:00Z',\n",
       "  'content': 'Elon Musk has owned Twitter for one quarter of one year, having closed on his purchase of the platform at the end of October. A quarter is a short but measurable time. Were Twitter still a public com… [+11653 chars]'},\n",
       " {'source': {'id': 'ars-technica', 'name': 'Ars Technica'},\n",
       "  'author': 'Jon Brodkin',\n",
       "  'title': 'How Musk beat Tesla fraud lawsuit: Juror says case relied too much on tweets - Ars Technica',\n",
       "  'description': 'Jury sided with Musk despite judge ruling his Tesla tweets were false and reckless.',\n",
       "  'url': 'https://arstechnica.com/tech-policy/2023/02/how-musk-beat-tesla-fraud-lawsuit-juror-says-case-relied-too-much-on-tweets/',\n",
       "  'urlToImage': 'https://cdn.arstechnica.net/wp-content/uploads/2023/02/getty-musk-760x380.jpg',\n",
       "  'publishedAt': '2023-02-06T19:13:43Z',\n",
       "  'content': \"Enlarge/ Elon Musk attends the 2022 Met Gala at The Metropolitan Museum of Art on May 2, 2022, in New York City. \\r\\n80 with 0 posters participating\\r\\nElon Musk's victory against a class-action lawsuit … [+4035 chars]\"},\n",
       " {'source': {'id': 'the-wall-street-journal',\n",
       "   'name': 'The Wall Street Journal'},\n",
       "  'author': 'Dan Gallagher',\n",
       "  'title': \"Tech Giants' Cloud Pains Aren't Shared Equally - The Wall Street Journal\",\n",
       "  'description': 'Amazon, Microsoft and Google are all getting pinched by the IT spending slowdown, but AWS’s slump hurts Amazon the most',\n",
       "  'url': 'https://www.wsj.com/articles/tech-giants-cloud-pains-arent-shared-equally-11675710254',\n",
       "  'urlToImage': 'https://images.wsj.net/im-718090/social',\n",
       "  'publishedAt': '2023-02-06T19:04:00Z',\n",
       "  'content': None},\n",
       " {'source': {'id': 'financial-times', 'name': 'Financial Times'},\n",
       "  'author': 'Max Seddon, Anastasia Stognei',\n",
       "  'title': 'Russia budget deficit soars as energy revenues slump by almost half - Financial Times',\n",
       "  'description': 'Fall in oil and gas sales coupled with sharp rise in defence spending highlight economic damage of Ukraine conflict',\n",
       "  'url': 'https://www.ft.com/content/3def31b3-ca3d-4d6b-8add-3008ac6dfb44',\n",
       "  'urlToImage': 'https://www.ft.com/__origami/service/image/v2/images/raw/https%3A%2F%2Fd1e00ek4ebabms.cloudfront.net%2Fproduction%2Fd94cb957-d13f-433e-8706-e0fb4a8113bc.jpg?source=next-opengraph&fit=scale-down&width=900',\n",
       "  'publishedAt': '2023-02-06T18:58:58Z',\n",
       "  'content': 'Russias budget deficit reached Rbs1.76tn ($25bn) in January as the Kremlin boosted defence spending and western sanctions began to hit the countrys oil and gas revenue. \\r\\nThe official figures are the… [+3061 chars]'},\n",
       " {'source': {'id': None, 'name': 'Yahoo Entertainment'},\n",
       "  'author': 'Brian Sozzi',\n",
       "  'title': 'Big Tech layoffs: What companies such as Amazon and Meta have in common - Yahoo Finance',\n",
       "  'description': 'Goldman Sachs decodes the mass layoffs sweeping Big Tech.',\n",
       "  'url': 'https://finance.yahoo.com/news/big-tech-layoffs-what-companies-such-as-amazon-and-meta-have-in-common-183840705.html',\n",
       "  'urlToImage': 'https://s.yimg.com/ny/api/res/1.2/1skw4lakXg4lTuC13vYcCQ--/YXBwaWQ9aGlnaGxhbmRlcjt3PTEyMDA7aD04MDY-/https://s.yimg.com/os/creatr-uploaded-images/2022-05/e41c4ff0-db9a-11ec-832a-22ba6b5f6b26',\n",
       "  'publishedAt': '2023-02-06T18:38:40Z',\n",
       "  'content': 'Household-name tech companies that are doling out pink slips to employees have a few things in common as they look to rebalance structural shifts in their businesses and set a path for better profits… [+3109 chars]'},\n",
       " {'source': {'id': None, 'name': 'Yahoo Entertainment'},\n",
       "  'author': 'Brooke DiPalma',\n",
       "  'title': 'Tyson stock falls as beef costs spike and chicken demand wanes - Yahoo Finance',\n",
       "  'description': 'Shares of Tyson Foods fell 6% on Monday after the company missed estimates in its latest quarterly results.',\n",
       "  'url': 'https://finance.yahoo.com/news/tyson-stock-falls-as-beef-costs-spike-and-chicken-demand-wanes-181826464.html',\n",
       "  'urlToImage': 'https://s.yimg.com/ny/api/res/1.2/X7PsCK16HSEKGJSehgHuIQ--/YXBwaWQ9aGlnaGxhbmRlcjt3PTEyMDA7aD04OTQ-/https://s.yimg.com/os/creatr-uploaded-images/2021-11/ef19f190-4622-11ec-bbd5-7d6752deff08',\n",
       "  'publishedAt': '2023-02-06T18:18:26Z',\n",
       "  'content': 'Shares of Tyson Foods (TSN) fell on Monday after the company missed estimates in its latest quarterly results.\\r\\nAdjusted earnings per share came in 70% lower year-over year, at $0.85, far below expec… [+3146 chars]'},\n",
       " {'source': {'id': 'the-wall-street-journal',\n",
       "   'name': 'The Wall Street Journal'},\n",
       "  'author': 'Dave Sebastian, Weilun Soon',\n",
       "  'title': 'Adani Group Plans $1.1 Billion Loan Repayment After Share Collateral Plummets - The Wall Street Journal',\n",
       "  'description': 'Selloff in Adani stocks slows after Indian exchanges limit daily swings',\n",
       "  'url': 'https://www.wsj.com/articles/adani-plans-1-1-billion-loan-repayment-after-share-collateral-plummets-11675685596',\n",
       "  'urlToImage': 'https://images.wsj.net/im-717842/social',\n",
       "  'publishedAt': '2023-02-06T17:58:00Z',\n",
       "  'content': 'The ports-to-energy conglomerate controlled by Indian billionaire Gautam Adani said its founders will prepay a $1.1 billion loan that was backed by shares of some of its companies, a move to shore up… [+462 chars]'},\n",
       " {'source': {'id': 'cnn', 'name': 'CNN'},\n",
       "  'author': 'Allison Morrow',\n",
       "  'title': \"FTX to politicians: Give us back our donations or we'll sue you - CNN\",\n",
       "  'description': 'The new management of FTX is pressuring hundreds of politicians and political organizations to return millions of dollars donated by the crypto platform or its founders before it went bankrupt last year.',\n",
       "  'url': 'https://www.cnn.com/2023/02/06/investing/ftx-political-funds-bankruptcy/index.html',\n",
       "  'urlToImage': 'https://media.cnn.com/api/v1/images/stellar/prod/230127141515-ftx-phone-stock.jpg?c=16x9&q=w_800,c_fill',\n",
       "  'publishedAt': '2023-02-06T17:51:00Z',\n",
       "  'content': 'The new management of FTX is pressuring hundreds of politicians and political organizations to return millions of dollars donated by the crypto platform or its founders before it went bankrupt last y… [+3520 chars]'},\n",
       " {'source': {'id': None, 'name': 'CoinDesk'},\n",
       "  'author': 'Ian Allison',\n",
       "  'title': 'Bankrupt Lender Genesis and Parent DCG Reach Initial Agreement With Main Creditors: Source - CoinDesk',\n",
       "  'description': 'The term sheet includes \"an equitization of the 10-year promissory note that DCG gave Genesis in return for the 3AC claims,\" a person familiar with the situation said.',\n",
       "  'url': 'https://www.coindesk.com/business/2023/02/06/bankrupt-lender-genesis-and-parent-dcg-reach-initial-agreement-with-main-creditors-source/',\n",
       "  'urlToImage': 'https://www.coindesk.com/resizer/CNH7bjfqTrO6aorDvpz4atbfcp4=/1200x628/center/middle/cloudfront-us-east-1.images.arcpublishing.com/coindesk/QIQFOFXKDNGXPNQLSOZWF33DAU.jpg',\n",
       "  'publishedAt': '2023-02-06T17:42:00Z',\n",
       "  'content': 'Crypto conglomerate Digital Currency Group (DCG) and its bankrupt Genesis subsidiaries reached an in-principle agreement on terms of a restructuring plan with a group of the firms main creditors, acc… [+2148 chars]'},\n",
       " {'source': {'id': None, 'name': 'CNBC'},\n",
       "  'author': 'Pia Singh',\n",
       "  'title': 'Stocks making the biggest moves midday: Dell, On Semiconductor, PayPal, Catalent & more - CNBC',\n",
       "  'description': 'These are the stocks posting the biggest moves during midday trading.',\n",
       "  'url': 'https://www.cnbc.com/2023/02/06/stocks-moving-big-midday-dell-on-pypl.html',\n",
       "  'urlToImage': 'https://image.cnbcfm.com/api/v1/image/106977312-1637235984176-gettyimages-1231032951-omarques_07022021_krktech_18.jpeg?v=1675703890&w=1920&h=1080',\n",
       "  'publishedAt': '2023-02-06T17:18:10Z',\n",
       "  'content': \"Check out the companies making headlines in midday trading Monday.\\r\\nOn Semiconductor Shares lost 0.6%, closing Monday's trading session in the red after the company reported earnings that beat Wall S… [+2639 chars]\"}]"
      ]
     },
     "execution_count": 40,
     "metadata": {},
     "output_type": "execute_result"
    }
   ],
   "source": [
    "news['articles']"
   ]
  },
  {
   "cell_type": "code",
   "execution_count": 64,
   "metadata": {},
   "outputs": [],
   "source": [
    "import requests\n",
    "import json\n",
    "import snowflake.connector\n",
    "\n",
    "table_name = 'REW'\n",
    "columns = \"title VARCHAR(100), description VARCHAR(100), published_at VARCHAR(100), url VARCHAR(100)\"\n",
    "\n",
    "class SnowflakeIngester:\n",
    "    def __init__(self, user, password, account):\n",
    "        self.cnx = snowflake.connector.connect(\n",
    "            user='tadox',\n",
    "            password='tkFKy9EBNpfkT3H',\n",
    "            account='vfzztqv-zn53085'\n",
    "            \n",
    "        )\n",
    "        self.cursor = self.cnx.cursor()\n",
    "        \n",
    "   \n",
    "    def create_table(self, table_name, columns):\n",
    "            table_create_query = \"CREATE TABLE LEARN.PUBLIC.{} ({});\".format(table_name, columns)\n",
    "            self.cursor.execute(table_create_query) \n",
    "\n",
    "ingester = SnowflakeIngester(user='tadox', password='tkFKy9EBNpfkT3H', account='vfzztqv-zn53085')\n",
    "ingester.create_table(table_name, columns)\n",
    "\n",
    "            "
   ]
  },
  {
   "cell_type": "code",
   "execution_count": 80,
   "metadata": {},
   "outputs": [
    {
     "ename": "TypeError",
     "evalue": "'NoneType' object is not subscriptable",
     "output_type": "error",
     "traceback": [
      "\u001b[0;31m---------------------------------------------------------------------------\u001b[0m",
      "\u001b[0;31mTypeError\u001b[0m                                 Traceback (most recent call last)",
      "\u001b[0;32m<ipython-input-80-ee44e1846000>\u001b[0m in \u001b[0;36m<module>\u001b[0;34m\u001b[0m\n\u001b[1;32m     32\u001b[0m     \u001b[0;32mfor\u001b[0m \u001b[0marticle\u001b[0m \u001b[0;32min\u001b[0m \u001b[0marticles\u001b[0m\u001b[0;34m:\u001b[0m\u001b[0;34m\u001b[0m\u001b[0;34m\u001b[0m\u001b[0m\n\u001b[1;32m     33\u001b[0m         \u001b[0mtitle\u001b[0m \u001b[0;34m=\u001b[0m \u001b[0marticle\u001b[0m\u001b[0;34m[\u001b[0m\u001b[0;34m'title'\u001b[0m\u001b[0;34m]\u001b[0m\u001b[0;34m[\u001b[0m\u001b[0;34m:\u001b[0m\u001b[0;36m90\u001b[0m\u001b[0;34m]\u001b[0m\u001b[0;34m\u001b[0m\u001b[0;34m\u001b[0m\u001b[0m\n\u001b[0;32m---> 34\u001b[0;31m         \u001b[0mdescription\u001b[0m \u001b[0;34m=\u001b[0m \u001b[0marticle\u001b[0m\u001b[0;34m[\u001b[0m\u001b[0;34m'description'\u001b[0m\u001b[0;34m]\u001b[0m\u001b[0;34m[\u001b[0m\u001b[0;34m:\u001b[0m\u001b[0;36m90\u001b[0m\u001b[0;34m]\u001b[0m\u001b[0;34m\u001b[0m\u001b[0;34m\u001b[0m\u001b[0m\n\u001b[0m\u001b[1;32m     35\u001b[0m         \u001b[0mpublishedAt\u001b[0m \u001b[0;34m=\u001b[0m \u001b[0marticle\u001b[0m\u001b[0;34m[\u001b[0m\u001b[0;34m'publishedAt'\u001b[0m\u001b[0;34m]\u001b[0m\u001b[0;34m[\u001b[0m\u001b[0;34m:\u001b[0m\u001b[0;36m90\u001b[0m\u001b[0;34m]\u001b[0m\u001b[0;34m\u001b[0m\u001b[0;34m\u001b[0m\u001b[0m\n\u001b[1;32m     36\u001b[0m         \u001b[0murl\u001b[0m \u001b[0;34m=\u001b[0m \u001b[0marticle\u001b[0m\u001b[0;34m[\u001b[0m\u001b[0;34m'url'\u001b[0m\u001b[0;34m]\u001b[0m\u001b[0;34m[\u001b[0m\u001b[0;34m:\u001b[0m\u001b[0;36m90\u001b[0m\u001b[0;34m]\u001b[0m\u001b[0;34m\u001b[0m\u001b[0;34m\u001b[0m\u001b[0m\n",
      "\u001b[0;31mTypeError\u001b[0m: 'NoneType' object is not subscriptable"
     ]
    }
   ],
   "source": [
    "import requests\n",
    "import snowflake.connector\n",
    "\n",
    "# Connect to Snowflake\n",
    "cnx = snowflake.connector.connect(\n",
    "  user='tadox',\n",
    "  password='tkFKy9EBNpfkT3H',\n",
    "  account='vfzztqv-zn53085'\n",
    ")\n",
    "\n",
    "# Create a cursor object to execute queries\n",
    "cursor = cnx.cursor()\n",
    "\n",
    "# Select an active warehouse\n",
    "cursor.execute(\"USE WAREHOUSE COMPUTE_WH\")\n",
    "\n",
    "# Define the API endpoint for newsapi.org\n",
    "url = 'https://newsapi.org/v2/everything?q=tesla&from=2023-01-07&sortBy=publishedAt&apiKey=ce8c4b3c99d14e0d922f653c41b36614'\n",
    "\n",
    "# Send a GET request to the API endpoint\n",
    "response = requests.get(url)\n",
    "\n",
    "# Check if the request was successful\n",
    "if response.status_code == 200:\n",
    "    # Convert the response to JSON format\n",
    "    news = response.json()\n",
    "\n",
    "    # Extract the articles from the response\n",
    "    articles = news['articles']\n",
    "\n",
    "    # Loop through the articles and insert them into Snowflake\n",
    "    for article in articles:\n",
    "        title = article['title'][:90]\n",
    "        description = article['description'][:90]\n",
    "        publishedAt = article['publishedAt'][:90]\n",
    "        url = article['url'][:90]\n",
    "        \n",
    "\n",
    "        # Execute an INSERT query to insert the article into Snowflake\n",
    "        cursor.execute(\n",
    "            \"INSERT INTO LEARN.PUBLIC.REW(title, description, published_at, url)\"\n",
    "            \"VALUES (%s, %s, %s, %s)\",\n",
    "            (title, description, publishedAt, url)\n",
    "        )\n",
    "\n",
    "# Commit the changes\n",
    "cnx.commit()\n",
    "\n",
    "# Close the cursor and connection\n",
    "cursor.close()\n",
    "cnx.close()\n"
   ]
  },
  {
   "cell_type": "code",
   "execution_count": 56,
   "metadata": {},
   "outputs": [],
   "source": [
    "articles = news['articles']\n"
   ]
  },
  {
   "cell_type": "code",
   "execution_count": 63,
   "metadata": {},
   "outputs": [
    {
     "data": {
      "text/plain": [
       "{'source': {'id': None, 'name': 'Forbes'},\n",
       " 'author': 'Q.ai - Powering a Personal Wealth Movement, Contributor, \\n Q.ai - Powering a Personal Wealth Movement, Contributor\\n https://www.forbes.com/sites/qai/',\n",
       " 'title': \"Ford Cuts Prices In Response To Tesla's Reductions - What's Next For EV In 2023?\",\n",
       " 'description': 'Ford will be cutting the price of its Mustang Mach-E. Here is why they are reducing the cost and how this will impact the company’s bottom line.',\n",
       " 'url': 'https://www.forbes.com/sites/qai/2023/02/06/ford-cuts-prices-in-response-to-teslas-reductionswhats-next-for-ev-in-2023/',\n",
       " 'urlToImage': 'https://imageio.forbes.com/specials-images/imageserve/63e1b2a55a109d11ac4c9763/0x0.jpg?format=jpg&width=1200',\n",
       " 'publishedAt': '2023-02-07T02:17:33Z',\n",
       " 'content': 'AFP via Getty Images\\r\\nKey takeaways\\r\\n<ul><li>In response to Tesla cutting prices, Ford announced it would reduce the price of its Mustang Mach-E</li><li>The price cut will cause Ford to lose money on… [+5560 chars]'}"
      ]
     },
     "execution_count": 63,
     "metadata": {},
     "output_type": "execute_result"
    }
   ],
   "source": [
    "articles[0]"
   ]
  },
  {
   "cell_type": "code",
   "execution_count": 76,
   "metadata": {},
   "outputs": [],
   "source": [
    "description = article['description'][:90]"
   ]
  },
  {
   "cell_type": "code",
   "execution_count": 77,
   "metadata": {},
   "outputs": [
    {
     "data": {
      "text/plain": [
       "'Apple’s numbers for the first quarter of its Fiscal Year 2023 (ending in December 2022) we'"
      ]
     },
     "execution_count": 77,
     "metadata": {},
     "output_type": "execute_result"
    }
   ],
   "source": [
    "description"
   ]
  },
  {
   "cell_type": "code",
   "execution_count": null,
   "metadata": {},
   "outputs": [],
   "source": []
  }
 ],
 "metadata": {
  "kernelspec": {
   "display_name": "pycaret1",
   "language": "python",
   "name": "python3"
  },
  "language_info": {
   "codemirror_mode": {
    "name": "ipython",
    "version": 3
   },
   "file_extension": ".py",
   "mimetype": "text/x-python",
   "name": "python",
   "nbconvert_exporter": "python",
   "pygments_lexer": "ipython3",
   "version": "3.6.13"
  },
  "orig_nbformat": 4,
  "vscode": {
   "interpreter": {
    "hash": "75a06505d35fe699f92ecce8f30f15c08c11d8011706abeebe4b87a9ec318be4"
   }
  }
 },
 "nbformat": 4,
 "nbformat_minor": 2
}
